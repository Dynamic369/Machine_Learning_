{
 "cells": [
  {
   "cell_type": "markdown",
   "id": "d62b86cc-6718-45b5-90f6-1b5807d42f1f",
   "metadata": {},
   "source": [
    "Handling Outlier"
   ]
  },
  {
   "cell_type": "markdown",
   "id": "75308aac-7248-42ea-8f74-193de238ed47",
   "metadata": {},
   "source": [
    "5 Number Summary\n",
    "1. Minimum value\n",
    "2. Q1 - 25 percentile\n",
    "3. Median\n",
    "4. Q3 - 75 Percentile\n",
    "5. Maximum"
   ]
  },
  {
   "cell_type": "code",
   "execution_count": 2,
   "id": "dbefedbb-127b-4afb-8b09-01d7120b9a85",
   "metadata": {},
   "outputs": [],
   "source": [
    "import numpy as np\n",
    "lst_marks= [36,45,36,38,42,56,72,98,75,68,41,85,29,65,75,72,34,1000,1100]\n",
    "         "
   ]
  },
  {
   "cell_type": "code",
   "execution_count": 3,
   "id": "329c874c-3b3c-4a91-ac60-4177387fea7b",
   "metadata": {},
   "outputs": [
    {
     "data": {
      "text/plain": [
       "array([39.5])"
      ]
     },
     "execution_count": 3,
     "metadata": {},
     "output_type": "execute_result"
    }
   ],
   "source": [
    "np.percentile(lst_marks,[25])"
   ]
  },
  {
   "cell_type": "code",
   "execution_count": 6,
   "id": "723a885b-9273-4c8f-ba41-b19b483a9a19",
   "metadata": {},
   "outputs": [
    {
     "data": {
      "text/plain": [
       "array([75.])"
      ]
     },
     "execution_count": 6,
     "metadata": {},
     "output_type": "execute_result"
    }
   ],
   "source": [
    "np.percentile(lst_marks,[75])"
   ]
  },
  {
   "cell_type": "code",
   "execution_count": 8,
   "id": "b3711cfc-1c24-43b9-9bbc-c49c5d71363f",
   "metadata": {},
   "outputs": [],
   "source": [
    "minimum,Q1,Median,Q3,maximum=np.quantile(lst_marks,[0,0.25,0.50,.75,1.0])"
   ]
  },
  {
   "cell_type": "code",
   "execution_count": 9,
   "id": "72576e31-f64a-4608-be22-bc40763a32f7",
   "metadata": {},
   "outputs": [
    {
     "data": {
      "text/plain": [
       "np.float64(29.0)"
      ]
     },
     "execution_count": 9,
     "metadata": {},
     "output_type": "execute_result"
    }
   ],
   "source": [
    "minimum"
   ]
  },
  {
   "cell_type": "code",
   "execution_count": 10,
   "id": "4de2eafc-0bb9-41e6-a27f-f6496954dfec",
   "metadata": {},
   "outputs": [
    {
     "data": {
      "text/plain": [
       "np.float64(1100.0)"
      ]
     },
     "execution_count": 10,
     "metadata": {},
     "output_type": "execute_result"
    }
   ],
   "source": [
    "maximum"
   ]
  },
  {
   "cell_type": "code",
   "execution_count": 11,
   "id": "e463b4b4-cb2d-404a-9d7e-9cb3eef33f69",
   "metadata": {},
   "outputs": [],
   "source": [
    "## Calculating the IQR(Inter Quartile Range)\n",
    "IQR = Q3 -Q1"
   ]
  },
  {
   "cell_type": "code",
   "execution_count": 12,
   "id": "13096284-9479-4e68-a1d1-8eac08db6630",
   "metadata": {},
   "outputs": [
    {
     "data": {
      "text/plain": [
       "np.float64(35.5)"
      ]
     },
     "execution_count": 12,
     "metadata": {},
     "output_type": "execute_result"
    }
   ],
   "source": [
    "IQR"
   ]
  },
  {
   "cell_type": "code",
   "execution_count": 13,
   "id": "8904b689-5d43-47c3-9917-de9c509c171b",
   "metadata": {},
   "outputs": [],
   "source": [
    "##Calculating the lower fence and Higher fReferenceError\n",
    "lower_fence = Q1 - 1.5*(IQR)\n",
    "higher_fence = Q3 + 1.5*(IQR)"
   ]
  },
  {
   "cell_type": "code",
   "execution_count": 14,
   "id": "21cb8634-d7bf-4add-986a-64cd832ede42",
   "metadata": {},
   "outputs": [
    {
     "data": {
      "text/plain": [
       "(np.float64(-13.75), np.float64(128.25))"
      ]
     },
     "execution_count": 14,
     "metadata": {},
     "output_type": "execute_result"
    }
   ],
   "source": [
    "lower_fence,higher_fence"
   ]
  },
  {
   "cell_type": "code",
   "execution_count": 15,
   "id": "3b9fe1a5-8ba4-414e-8558-87017e718f96",
   "metadata": {},
   "outputs": [
    {
     "name": "stdout",
     "output_type": "stream",
     "text": [
      "This is not a Outlier\n",
      "This is not a Outlier\n",
      "This is not a Outlier\n",
      "This is not a Outlier\n",
      "This is not a Outlier\n",
      "This is not a Outlier\n",
      "This is not a Outlier\n",
      "This is not a Outlier\n",
      "This is not a Outlier\n",
      "This is not a Outlier\n",
      "This is not a Outlier\n",
      "This is not a Outlier\n",
      "This is not a Outlier\n",
      "This is not a Outlier\n",
      "This is not a Outlier\n",
      "This is not a Outlier\n",
      "This is not a Outlier\n"
     ]
    }
   ],
   "source": [
    "# finding the Outliers\n",
    "outliers = []\n",
    "for i in lst_marks:\n",
    "    if i>=-13.75 and i<=128.25:\n",
    "        print(\"This is not a Outlier\")\n",
    "    else:\n",
    "        outliers.append(i)\n",
    "        \n",
    "    "
   ]
  },
  {
   "cell_type": "code",
   "execution_count": 16,
   "id": "0c81c658-a84f-48af-9758-977912971f93",
   "metadata": {},
   "outputs": [
    {
     "data": {
      "text/plain": [
       "[1000, 1100]"
      ]
     },
     "execution_count": 16,
     "metadata": {},
     "output_type": "execute_result"
    }
   ],
   "source": [
    "outliers"
   ]
  },
  {
   "cell_type": "markdown",
   "id": "b04a784d-8f74-49d2-b38a-88aac43a4925",
   "metadata": {},
   "source": [
    "# Boxplot is the another way to find the outlier"
   ]
  },
  {
   "cell_type": "code",
   "execution_count": 17,
   "id": "6cc7a27e-702c-4f06-bb8f-2233942752f3",
   "metadata": {},
   "outputs": [],
   "source": [
    "import seaborn as sns"
   ]
  },
  {
   "cell_type": "code",
   "execution_count": 18,
   "id": "79f0c63d-6107-4d76-a53a-a2e1344c4d64",
   "metadata": {},
   "outputs": [
    {
     "data": {
      "text/plain": [
       "<Axes: >"
      ]
     },
     "execution_count": 18,
     "metadata": {},
     "output_type": "execute_result"
    },
    {
     "data": {
      "image/png": "[encoded data removed]",
      "text/plain": [
       "<Figure size 640x480 with 1 Axes>"
      ]
     },
     "metadata": {},
     "output_type": "display_data"
    }
   ],
   "source": [
    "sns.boxplot(lst_marks)"
   ]
  },
  {
   "cell_type": "code",
   "execution_count": 21,
   "id": "c29f6925-ccfd-4dde-8b07-0fc2581ec8be",
   "metadata": {},
   "outputs": [],
   "source": [
    "lst_marks1= [36,45,36,38,42,56,72,98,75,68,41,85,29,65,75,72,34,88,79,85]"
   ]
  },
  {
   "cell_type": "code",
   "execution_count": 28,
   "id": "2e322ebb-5fae-4f65-a418-083a7a7bf696",
   "metadata": {},
   "outputs": [
    {
     "data": {
      "text/plain": [
       "<Axes: >"
      ]
     },
     "execution_count": 28,
     "metadata": {},
     "output_type": "execute_result"
    },
    {
     "data": {
      "image/png": "[encoded data removed]",
      "text/plain": [
       "<Figure size 640x480 with 1 Axes>"
      ]
     },
     "metadata": {},
     "output_type": "display_data"
    }
   ],
   "source": [
    "sns.boxplot(lst_marks1)"
   ]
  },
  {
   "cell_type": "code",
   "execution_count": null,
   "id": "f22d0d41-a3b2-428d-b5d4-d6667cc11cf2",
   "metadata": {},
   "outputs": [],
   "source": []
  }
 ],
 "metadata": {
  "kernelspec": {
   "display_name": "Python 3 (ipykernel)",
   "language": "python",
   "name": "python3"
  },
  "language_info": {
   "codemirror_mode": {
    "name": "ipython",
    "version": 3
   },
   "file_extension": ".py",
   "mimetype": "text/x-python",
   "name": "python",
   "nbconvert_exporter": "python",
   "pygments_lexer": "ipython3",
   "version": "3.11.9"
  }
 },
 "nbformat": 4,
 "nbformat_minor": 5
}
